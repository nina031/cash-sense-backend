{
 "cells": [
  {
   "cell_type": "code",
   "execution_count": 9,
   "metadata": {},
   "outputs": [
    {
     "name": "stdout",
     "output_type": "stream",
     "text": [
      "Requirement already satisfied: plaid-python in /Users/ninamessaoudi/Documents/Projects/Projets perso/CashSense/cash-sense-backend/venv/lib/python3.13/site-packages (29.1.0)\n",
      "Requirement already satisfied: urllib3>=1.25.3 in /Users/ninamessaoudi/Documents/Projects/Projets perso/CashSense/cash-sense-backend/venv/lib/python3.13/site-packages (from plaid-python) (2.3.0)\n",
      "Requirement already satisfied: python-dateutil in /Users/ninamessaoudi/Documents/Projects/Projets perso/CashSense/cash-sense-backend/venv/lib/python3.13/site-packages (from plaid-python) (2.9.0.post0)\n",
      "Requirement already satisfied: nulltype in /Users/ninamessaoudi/Documents/Projects/Projets perso/CashSense/cash-sense-backend/venv/lib/python3.13/site-packages (from plaid-python) (2.3.1)\n",
      "Requirement already satisfied: six>=1.5 in /Users/ninamessaoudi/Documents/Projects/Projets perso/CashSense/cash-sense-backend/venv/lib/python3.13/site-packages (from python-dateutil->plaid-python) (1.17.0)\n",
      "\n",
      "\u001b[1m[\u001b[0m\u001b[34;49mnotice\u001b[0m\u001b[1;39;49m]\u001b[0m\u001b[39;49m A new release of pip is available: \u001b[0m\u001b[31;49m24.3.1\u001b[0m\u001b[39;49m -> \u001b[0m\u001b[32;49m25.1\u001b[0m\n",
      "\u001b[1m[\u001b[0m\u001b[34;49mnotice\u001b[0m\u001b[1;39;49m]\u001b[0m\u001b[39;49m To update, run: \u001b[0m\u001b[32;49mpip install --upgrade pip\u001b[0m\n",
      "Note: you may need to restart the kernel to use updated packages.\n"
     ]
    }
   ],
   "source": [
    "pip install plaid-python"
   ]
  },
  {
   "cell_type": "code",
   "execution_count": null,
   "metadata": {},
   "outputs": [],
   "source": [
    "import os\n",
    "import json\n",
    "import re\n",
    "from datetime import datetime, timedelta\n",
    "\n",
    "# Bibliothèques pour l'environnement\n",
    "from dotenv import load_dotenv, dotenv_values\n",
    "\n",
    "# Bibliothèques d'analyse de données\n",
    "import pandas as pd\n",
    "import numpy as np\n",
    "import matplotlib.pyplot as plt\n",
    "import seaborn as sns\n",
    "\n",
    "# Bibliothèques Plaid\n",
    "import plaid\n",
    "from plaid.api import plaid_api\n",
    "from plaid.model.plaid_error import PlaidError\n",
    "from plaid.model.products import Products\n",
    "from plaid.model.link_token_create_request import LinkTokenCreateRequest\n",
    "from plaid.model.country_code import CountryCode\n",
    "from plaid.model.link_token_get_request import LinkTokenGetRequest\n",
    "from plaid.model.accounts_get_request import AccountsGetRequest\n",
    "from plaid.model.transactions_get_request import TransactionsGetRequest\n",
    "from plaid.configuration import Configuration\n",
    "from plaid.api_client import ApiClient\n",
    "from plaid.model.item_public_token_exchange_request import ItemPublicTokenExchangeRequest\n",
    "from plaid.model.sandbox_public_token_create_request import SandboxPublicTokenCreateRequest"
   ]
  },
  {
   "cell_type": "code",
   "execution_count": null,
   "metadata": {},
   "outputs": [],
   "source": [
    "load_dotenv() \n",
    "env = 'sand'\n",
    "PLAID_CLIENT_ID = os.getenv(\"PLAID_CLIENT_ID\")\n",
    "PLAID_SECRET = os.getenv(\"PLAID_SECRET_\" + env)\n",
    "PLAID_ENV = os.getenv(\"PLAID_ENV_\" + env)\n",
    "institutionId = \"ins_1\""
   ]
  },
  {
   "cell_type": "markdown",
   "metadata": {},
   "source": [
    "### plaid routes"
   ]
  },
  {
   "cell_type": "code",
   "execution_count": 22,
   "metadata": {},
   "outputs": [],
   "source": [
    "plaid_blueprint = Blueprint('plaid', __name__)\n",
    "@plaid_blueprint.route('/create_link_token', methods=['POST'])\n",
    "def link_token_api():\n",
    "    try:\n",
    "        link_token = create_link_token()\n",
    "        return jsonify({\"link_token\": link_token})\n",
    "    except Exception as e:\n",
    "        return jsonify({\"error\": str(e)}), 500\n",
    "\n",
    "@plaid_blueprint.route('/exchange_token', methods=['POST'])\n",
    "def exchange_token_api():\n",
    "    try:\n",
    "        public_token = request.json.get('public_token')\n",
    "        if not public_token:\n",
    "            return jsonify({\"error\": \"Public token is required\"}), 400\n",
    "            \n",
    "        result = exchange_public_token(public_token)\n",
    "        return jsonify(result)\n",
    "    except Exception as e:\n",
    "        return jsonify({\"error\": str(e)}), 500\n",
    "\n",
    "@plaid_blueprint.route('/get_transactions', methods=['POST'])\n",
    "def transactions_api():\n",
    "    try:\n",
    "        access_token = request.json.get('access_token')\n",
    "        if not access_token:\n",
    "            return jsonify({\"error\": \"Access token is required\"}), 400\n",
    "            \n",
    "        transactions = get_user_transactions(access_token)\n",
    "        return jsonify({\"transactions\": transactions})\n",
    "    except Exception as e:\n",
    "        return jsonify({\"error\": str(e)}), 500\n",
    "    \n",
    "@plaid_blueprint.route('/create_sandbox_token', methods=['POST'])\n",
    "def create_sandbox_token_api():\n",
    "    try:\n",
    "        institution_id = request.json.get('institution_id', 'ins_1')\n",
    "        client = get_plaid_client()\n",
    "        \n",
    "        request_obj = SandboxPublicTokenCreateRequest(\n",
    "            institution_id=institution_id,\n",
    "            initial_products=[Products('transactions')]\n",
    "        )\n",
    "        response = client.sandbox_public_token_create(request_obj)\n",
    "        return jsonify({\"public_token\": response.public_token})\n",
    "    except Exception as e:\n",
    "        return jsonify({\"error\": str(e)}), 500"
   ]
  },
  {
   "cell_type": "markdown",
   "metadata": {},
   "source": [
    "### plaid helpers"
   ]
  },
  {
   "cell_type": "code",
   "execution_count": 23,
   "metadata": {},
   "outputs": [],
   "source": [
    "def get_plaid_client():\n",
    "    \"\"\"\n",
    "    Configure et retourne un client Plaid\n",
    "    \"\"\"\n",
    "    configuration = Configuration(\n",
    "        host=PLAID_ENV,\n",
    "        api_key={\n",
    "            'clientId': PLAID_CLIENT_ID,\n",
    "            'secret': PLAID_SECRET,\n",
    "        }\n",
    "    )\n",
    "    api_client = plaid.ApiClient(configuration)\n",
    "    return plaid_api.PlaidApi(api_client)\n",
    "\n",
    "def format_transaction(transaction):\n",
    "    \"\"\"\n",
    "    Formate une transaction Plaid pour le frontend\n",
    "    \"\"\"\n",
    "    return {\n",
    "        \"id\": transaction.transaction_id,\n",
    "        \"date\": transaction.date,\n",
    "        \"name\": transaction.name,\n",
    "        \"amount\": transaction.amount,\n",
    "        \"category\": ', '.join(transaction.category) if transaction.category else \"Non catégorisé\",\n",
    "        \"payment_channel\": transaction.payment_channel,\n",
    "        \"pending\": transaction.pending,\n",
    "        \"merchant_name\": transaction.merchant_name\n",
    "    }"
   ]
  },
  {
   "cell_type": "markdown",
   "metadata": {},
   "source": [
    "### plaid service\n"
   ]
  },
  {
   "cell_type": "code",
   "execution_count": 24,
   "metadata": {},
   "outputs": [],
   "source": [
    "def create_link_token():\n",
    "    \"\"\"\n",
    "    Crée un token de liaison Plaid pour initialiser Plaid Link\n",
    "    \"\"\"\n",
    "    client = get_plaid_client()\n",
    "    \n",
    "    request = LinkTokenCreateRequest(\n",
    "        products=[Products('auth'), Products('transactions')],\n",
    "        client_name=\"CashSense\",\n",
    "        country_codes=[CountryCode('US')],\n",
    "        language='fr',\n",
    "        user={'client_user_id': 'user_12345'}  # En production, utilisez un ID utilisateur réel\n",
    "    )\n",
    "    \n",
    "    response = client.link_token_create(request)\n",
    "    return response['link_token']\n",
    "\n",
    "def exchange_public_token(public_token):\n",
    "    \"\"\"\n",
    "    Échange un token public contre un token d'accès permanent\n",
    "    \"\"\"\n",
    "    client = get_plaid_client()\n",
    "    \n",
    "    exchange_request = ItemPublicTokenExchangeRequest(\n",
    "        public_token=public_token\n",
    "    )\n",
    "    exchange_response = client.item_public_token_exchange(exchange_request)\n",
    "    \n",
    "    # Dans une application réelle, stockez cet access_token en sécurité\n",
    "    access_token = exchange_response.access_token\n",
    "    item_id = exchange_response.item_id\n",
    "    \n",
    "    return {\n",
    "        \"access_token\": access_token,\n",
    "        \"item_id\": item_id\n",
    "    }\n",
    "\n",
    "def get_user_transactions(access_token, days=30):\n",
    "    \"\"\"\n",
    "    Récupère les transactions des X derniers jours\n",
    "    \"\"\"\n",
    "    client = get_plaid_client()\n",
    "    \n",
    "    # Calculer les dates de début et de fin\n",
    "    end_date = datetime.now().date()\n",
    "    start_date = end_date - timedelta(days=days)\n",
    "    \n",
    "    # Récupérer les transactions\n",
    "    request = TransactionsGetRequest(\n",
    "        access_token=access_token,\n",
    "        start_date=start_date,\n",
    "        end_date=end_date\n",
    "    )\n",
    "    \n",
    "    response = client.transactions_get(request)\n",
    "    transactions = response['transactions']\n",
    "    \n",
    "    # Formater les transactions pour le frontend\n",
    "    return [format_transaction(transaction) for transaction in transactions]\n"
   ]
  },
  {
   "cell_type": "markdown",
   "metadata": {},
   "source": [
    "Creation de l'API flask"
   ]
  },
  {
   "cell_type": "code",
   "execution_count": null,
   "metadata": {},
   "outputs": [],
   "source": []
  }
 ],
 "metadata": {
  "kernelspec": {
   "display_name": "venv",
   "language": "python",
   "name": "python3"
  },
  "language_info": {
   "codemirror_mode": {
    "name": "ipython",
    "version": 3
   },
   "file_extension": ".py",
   "mimetype": "text/x-python",
   "name": "python",
   "nbconvert_exporter": "python",
   "pygments_lexer": "ipython3",
   "version": "3.13.2"
  }
 },
 "nbformat": 4,
 "nbformat_minor": 2
}
